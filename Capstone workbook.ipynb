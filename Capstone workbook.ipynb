{
 "cells": [
  {
   "cell_type": "markdown",
   "metadata": {},
   "source": [
    "# Customer Segmentation using NLP and BDScan on Apparel Reviews"
   ]
  },
  {
   "cell_type": "markdown",
   "metadata": {},
   "source": []
  },
  {
   "cell_type": "markdown",
   "metadata": {},
   "source": [
    "### Problem Statement "
   ]
  },
  {
   "cell_type": "markdown",
   "metadata": {},
   "source": [
    "\"Apparel and accessories represented 29% of Amazon’s retail e-commerce sales in the U.S. last year, generating $35.79 billion, according to research firm eMarketer.\" (Lee, 2019)\n",
    "\n",
    "Amazon is looking to expand it's share of the fashion business. Amazon Fashion recently begun a series of limited-edition influencer-designed collections called The Drop. The collections drop every Thursday and are available for purchase for only 30 hours, making the pieces extra exclusive. In even simplier ways, on the Amazon Fashion home page, they highlighting links to lists of items that have over a certain threshold of reviewers as, 'Customer's most loved styles'. Once you navigate to that page, they've even taken this up a step further with different product categories and influencer's reviews of popular products. Later this month, Amazon Prime is releasing \"Making The Cut\" a fashion-based reality TV show with Heidi Klum and Tim Gunn, of Project Runway fame. The premise of the show is designers will compete to launch an new brand and a 1 million dollar prize. The winning designs will then be available to shop on Amazon Fashion immediately afterwards. \n",
    "\n",
    "Working with data made available from researchers at UCSD, we will process the text of reviews using NLP techniques and then use unsupervised learning techniques to make clusters. The model will be evaluated on it's Silhouette Score.  From there we'll do EDA on these different clusters to figure out which segementation of the market they are and provide insights on how they should be targeted."
   ]
  },
  {
   "cell_type": "markdown",
   "metadata": {},
   "source": [
    "### Data Dictionary "
   ]
  },
  {
   "cell_type": "markdown",
   "metadata": {},
   "source": [
    "|Feature|Type|Description|\n",
    "|---|---|---|\n",
    "|reviewerID|Object|ID of the reviewer.|\n",
    "|asin|Object| ID of the product.|\n",
    "|reviewerName| Object| name of the reviewer.|\n",
    "|vote| Object| helpfulness votes of the review| \n",
    "|style| Integer|  a dictionary of the product metadata.|\n",
    "|reviewText| Object |text of the review|\n",
    "|overall| Integer | rating of the product|\n",
    "|summary |Object |summary of the review |\n",
    "|unixReviewTime |Integer| time of the review (unix time) |\n",
    "|reviewTime| | time of the review (raw)|\n",
    "|image|| image that users post after they have recieved the product|\n",
    "\n"
   ]
  },
  {
   "cell_type": "markdown",
   "metadata": {},
   "source": [
    "### Importing packages"
   ]
  },
  {
   "cell_type": "code",
   "execution_count": 34,
   "metadata": {},
   "outputs": [],
   "source": [
    "import os\n",
    "import json\n",
    "import gzip\n",
    "import pandas as pd\n",
    "import matplotlib.pyplot as plt\n",
    "import missingno as msno \n",
    "from urllib.request import urlopen\n"
   ]
  },
  {
   "cell_type": "markdown",
   "metadata": {},
   "source": [
    "## Importing Data "
   ]
  },
  {
   "cell_type": "markdown",
   "metadata": {},
   "source": [
    "The data is broken into 2 datasets, the first which we'll spend the majority of our time working with is the reviews dataset with a total of 883,636 rows. We'll also load and clean the metadata, which has more information about the products being reviewed. "
   ]
  },
  {
   "cell_type": "code",
   "execution_count": 15,
   "metadata": {},
   "outputs": [
    {
     "name": "stdout",
     "output_type": "stream",
     "text": [
      "883636\n",
      "{'overall': 5.0, 'verified': True, 'reviewTime': '10 20, 2014', 'reviewerID': 'A1D4G1SNUZWQOT', 'asin': '7106116521', 'reviewerName': 'Tracy', 'reviewText': 'Exactly what I needed.', 'summary': 'perfect replacements!!', 'unixReviewTime': 1413763200}\n"
     ]
    }
   ],
   "source": [
    "# reading in Amazon Fashion review data \n",
    "data = []\n",
    "with gzip.open('./AMAZON_FASHION.json.gz') as f:\n",
    "    for l in f:\n",
    "        data.append(json.loads(l.strip()))\n",
    "    \n",
    "# total length of list, this number equals total number of products\n",
    "print(len(data))\n",
    "\n",
    "# first row of the list\n",
    "print(data[0])\n"
   ]
  },
  {
   "cell_type": "code",
   "execution_count": 27,
   "metadata": {},
   "outputs": [
    {
     "name": "stdout",
     "output_type": "stream",
     "text": [
      "883636\n"
     ]
    }
   ],
   "source": [
    "# convert list into pandas dataframe\n",
    "df = pd.DataFrame.from_dict(data)\n",
    "\n",
    "print(len(df))"
   ]
  },
  {
   "cell_type": "code",
   "execution_count": 71,
   "metadata": {},
   "outputs": [
    {
     "data": {
      "text/html": [
       "<div>\n",
       "<style scoped>\n",
       "    .dataframe tbody tr th:only-of-type {\n",
       "        vertical-align: middle;\n",
       "    }\n",
       "\n",
       "    .dataframe tbody tr th {\n",
       "        vertical-align: top;\n",
       "    }\n",
       "\n",
       "    .dataframe thead th {\n",
       "        text-align: right;\n",
       "    }\n",
       "</style>\n",
       "<table border=\"1\" class=\"dataframe\">\n",
       "  <thead>\n",
       "    <tr style=\"text-align: right;\">\n",
       "      <th></th>\n",
       "      <th>overall</th>\n",
       "      <th>verified</th>\n",
       "      <th>reviewTime</th>\n",
       "      <th>reviewerID</th>\n",
       "      <th>asin</th>\n",
       "      <th>reviewerName</th>\n",
       "      <th>reviewText</th>\n",
       "      <th>summary</th>\n",
       "      <th>unixReviewTime</th>\n",
       "      <th>vote</th>\n",
       "      <th>style</th>\n",
       "      <th>image</th>\n",
       "    </tr>\n",
       "  </thead>\n",
       "  <tbody>\n",
       "    <tr>\n",
       "      <th>0</th>\n",
       "      <td>5.0</td>\n",
       "      <td>True</td>\n",
       "      <td>10 20, 2014</td>\n",
       "      <td>A1D4G1SNUZWQOT</td>\n",
       "      <td>7106116521</td>\n",
       "      <td>Tracy</td>\n",
       "      <td>Exactly what I needed.</td>\n",
       "      <td>perfect replacements!!</td>\n",
       "      <td>1413763200</td>\n",
       "      <td>NaN</td>\n",
       "      <td>NaN</td>\n",
       "      <td>NaN</td>\n",
       "    </tr>\n",
       "    <tr>\n",
       "      <th>1</th>\n",
       "      <td>2.0</td>\n",
       "      <td>True</td>\n",
       "      <td>09 28, 2014</td>\n",
       "      <td>A3DDWDH9PX2YX2</td>\n",
       "      <td>7106116521</td>\n",
       "      <td>Sonja Lau</td>\n",
       "      <td>I agree with the other review, the opening is ...</td>\n",
       "      <td>I agree with the other review, the opening is ...</td>\n",
       "      <td>1411862400</td>\n",
       "      <td>3</td>\n",
       "      <td>NaN</td>\n",
       "      <td>NaN</td>\n",
       "    </tr>\n",
       "    <tr>\n",
       "      <th>2</th>\n",
       "      <td>4.0</td>\n",
       "      <td>False</td>\n",
       "      <td>08 25, 2014</td>\n",
       "      <td>A2MWC41EW7XL15</td>\n",
       "      <td>7106116521</td>\n",
       "      <td>Kathleen</td>\n",
       "      <td>Love these... I am going to order another pack...</td>\n",
       "      <td>My New 'Friends' !!</td>\n",
       "      <td>1408924800</td>\n",
       "      <td>NaN</td>\n",
       "      <td>NaN</td>\n",
       "      <td>NaN</td>\n",
       "    </tr>\n",
       "    <tr>\n",
       "      <th>3</th>\n",
       "      <td>2.0</td>\n",
       "      <td>True</td>\n",
       "      <td>08 24, 2014</td>\n",
       "      <td>A2UH2QQ275NV45</td>\n",
       "      <td>7106116521</td>\n",
       "      <td>Jodi Stoner</td>\n",
       "      <td>too tiny an opening</td>\n",
       "      <td>Two Stars</td>\n",
       "      <td>1408838400</td>\n",
       "      <td>NaN</td>\n",
       "      <td>NaN</td>\n",
       "      <td>NaN</td>\n",
       "    </tr>\n",
       "    <tr>\n",
       "      <th>4</th>\n",
       "      <td>3.0</td>\n",
       "      <td>False</td>\n",
       "      <td>07 27, 2014</td>\n",
       "      <td>A89F3LQADZBS5</td>\n",
       "      <td>7106116521</td>\n",
       "      <td>Alexander D.</td>\n",
       "      <td>Okay</td>\n",
       "      <td>Three Stars</td>\n",
       "      <td>1406419200</td>\n",
       "      <td>NaN</td>\n",
       "      <td>NaN</td>\n",
       "      <td>NaN</td>\n",
       "    </tr>\n",
       "  </tbody>\n",
       "</table>\n",
       "</div>"
      ],
      "text/plain": [
       "   overall  verified   reviewTime      reviewerID        asin  reviewerName  \\\n",
       "0      5.0      True  10 20, 2014  A1D4G1SNUZWQOT  7106116521         Tracy   \n",
       "1      2.0      True  09 28, 2014  A3DDWDH9PX2YX2  7106116521     Sonja Lau   \n",
       "2      4.0     False  08 25, 2014  A2MWC41EW7XL15  7106116521      Kathleen   \n",
       "3      2.0      True  08 24, 2014  A2UH2QQ275NV45  7106116521   Jodi Stoner   \n",
       "4      3.0     False  07 27, 2014   A89F3LQADZBS5  7106116521  Alexander D.   \n",
       "\n",
       "                                          reviewText  \\\n",
       "0                             Exactly what I needed.   \n",
       "1  I agree with the other review, the opening is ...   \n",
       "2  Love these... I am going to order another pack...   \n",
       "3                                too tiny an opening   \n",
       "4                                               Okay   \n",
       "\n",
       "                                             summary  unixReviewTime vote  \\\n",
       "0                             perfect replacements!!      1413763200  NaN   \n",
       "1  I agree with the other review, the opening is ...      1411862400    3   \n",
       "2                                My New 'Friends' !!      1408924800  NaN   \n",
       "3                                          Two Stars      1408838400  NaN   \n",
       "4                                        Three Stars      1406419200  NaN   \n",
       "\n",
       "  style image  \n",
       "0   NaN   NaN  \n",
       "1   NaN   NaN  \n",
       "2   NaN   NaN  \n",
       "3   NaN   NaN  \n",
       "4   NaN   NaN  "
      ]
     },
     "execution_count": 71,
     "metadata": {},
     "output_type": "execute_result"
    }
   ],
   "source": [
    "df.head()"
   ]
  },
  {
   "cell_type": "code",
   "execution_count": 73,
   "metadata": {},
   "outputs": [
    {
     "data": {
      "text/plain": [
       "(883636, 12)"
      ]
     },
     "execution_count": 73,
     "metadata": {},
     "output_type": "execute_result"
    }
   ],
   "source": [
    "df.shape"
   ]
  },
  {
   "cell_type": "code",
   "execution_count": 40,
   "metadata": {},
   "outputs": [
    {
     "name": "stdout",
     "output_type": "stream",
     "text": [
      "186637\n",
      "{'title': 'Slime Time Fall Fest [With CDROM and Collector Cards and Neutron Balls, Incredi-Ball and Glow Stick Necklace, Paper Fram', 'image': ['https://images-na.ssl-images-amazon.com/images/I/51bSrINiWpL._US40_.jpg'], 'brand': 'Group Publishing (CO)', 'feature': ['Product Dimensions:\\n                    \\n8.7 x 3.6 x 11.4 inches', 'Shipping Weight:\\n                    \\n2.4 pounds'], 'rank': '13,052,976inClothing,Shoesamp;Jewelry(', 'date': '8.70 inches', 'asin': '0764443682'}\n"
     ]
    }
   ],
   "source": [
    "# reading in Metadata, which contains the product information \n",
    "# this dataset includes a notebook which walks you through additional data cleaning, this is pulled from that \n",
    "# https://colab.research.google.com/drive/1Zv6MARGQcrBbLHyjPVVMZVnRWsRnVMpV#scrollTo=LgWrDtZ94w89\n",
    "asin_data = []\n",
    "with gzip.open('./meta_AMAZON_FASHION.json.gz') as f:\n",
    "    for l in f:\n",
    "        asin_data.append(json.loads(l.strip()))\n",
    "    \n",
    "# total length of list, this number equals total number of products\n",
    "print(len(asin_data))\n",
    "\n",
    "# first row of the list\n",
    "print(asin_data[0])"
   ]
  },
  {
   "cell_type": "code",
   "execution_count": 68,
   "metadata": {},
   "outputs": [
    {
     "name": "stdout",
     "output_type": "stream",
     "text": [
      "186637\n"
     ]
    }
   ],
   "source": [
    "asin_df = pd.DataFrame.from_dict(asin_data)\n",
    "print(len(asin_df))"
   ]
  },
  {
   "cell_type": "code",
   "execution_count": 69,
   "metadata": {},
   "outputs": [
    {
     "name": "stdout",
     "output_type": "stream",
     "text": [
      "430\n",
      "186207\n"
     ]
    }
   ],
   "source": [
    "# this dataset includes a notebook which walks you through additional data cleaning,\n",
    "# https://colab.research.google.com/drive/1Zv6MARGQcrBbLHyjPVVMZVnRWsRnVMpV#scrollTo=LgWrDtZ94w89\n",
    "# remove rows with unformatted title (i.e. some 'title' may still contain html style content)\n",
    "df3 = asin_df.fillna('')\n",
    "df4 = df3[df3.title.str.contains('getTime')] # unformatted rows\n",
    "product_df = df3[~df3.title.str.contains('getTime')] # filter those unformatted rows\n",
    "print(len(df4))\n",
    "print(len(product_df))"
   ]
  },
  {
   "cell_type": "code",
   "execution_count": 70,
   "metadata": {},
   "outputs": [
    {
     "data": {
      "text/html": [
       "<div>\n",
       "<style scoped>\n",
       "    .dataframe tbody tr th:only-of-type {\n",
       "        vertical-align: middle;\n",
       "    }\n",
       "\n",
       "    .dataframe tbody tr th {\n",
       "        vertical-align: top;\n",
       "    }\n",
       "\n",
       "    .dataframe thead th {\n",
       "        text-align: right;\n",
       "    }\n",
       "</style>\n",
       "<table border=\"1\" class=\"dataframe\">\n",
       "  <thead>\n",
       "    <tr style=\"text-align: right;\">\n",
       "      <th></th>\n",
       "      <th>title</th>\n",
       "      <th>image</th>\n",
       "      <th>brand</th>\n",
       "      <th>feature</th>\n",
       "      <th>rank</th>\n",
       "      <th>date</th>\n",
       "      <th>asin</th>\n",
       "      <th>description</th>\n",
       "      <th>price</th>\n",
       "      <th>also_view</th>\n",
       "      <th>also_buy</th>\n",
       "      <th>fit</th>\n",
       "      <th>details</th>\n",
       "      <th>similar_item</th>\n",
       "      <th>tech1</th>\n",
       "    </tr>\n",
       "  </thead>\n",
       "  <tbody>\n",
       "    <tr>\n",
       "      <th>0</th>\n",
       "      <td>Slime Time Fall Fest [With CDROM and Collector...</td>\n",
       "      <td>[https://images-na.ssl-images-amazon.com/image...</td>\n",
       "      <td>Group Publishing (CO)</td>\n",
       "      <td>[Product Dimensions:\\n                    \\n8....</td>\n",
       "      <td>13,052,976inClothing,Shoesamp;Jewelry(</td>\n",
       "      <td>8.70 inches</td>\n",
       "      <td>0764443682</td>\n",
       "      <td></td>\n",
       "      <td></td>\n",
       "      <td></td>\n",
       "      <td></td>\n",
       "      <td></td>\n",
       "      <td></td>\n",
       "      <td></td>\n",
       "      <td></td>\n",
       "    </tr>\n",
       "    <tr>\n",
       "      <th>1</th>\n",
       "      <td>XCC Qi promise new spider snake preparing men'...</td>\n",
       "      <td>[https://images-na.ssl-images-amazon.com/image...</td>\n",
       "      <td></td>\n",
       "      <td></td>\n",
       "      <td>11,654,581inClothing,Shoesamp;Jewelry(</td>\n",
       "      <td>5 star</td>\n",
       "      <td>1291691480</td>\n",
       "      <td></td>\n",
       "      <td></td>\n",
       "      <td></td>\n",
       "      <td></td>\n",
       "      <td></td>\n",
       "      <td></td>\n",
       "      <td></td>\n",
       "      <td></td>\n",
       "    </tr>\n",
       "    <tr>\n",
       "      <th>2</th>\n",
       "      <td>Magical Things I Really Do Do Too!</td>\n",
       "      <td>[https://images-na.ssl-images-amazon.com/image...</td>\n",
       "      <td>Christopher Manos</td>\n",
       "      <td>[Package Dimensions:\\n                    \\n8....</td>\n",
       "      <td>19,308,073inClothing,ShoesJewelry(</td>\n",
       "      <td>5 star</td>\n",
       "      <td>1940280001</td>\n",
       "      <td>[For the professional or amateur magician.  Ro...</td>\n",
       "      <td></td>\n",
       "      <td></td>\n",
       "      <td></td>\n",
       "      <td></td>\n",
       "      <td></td>\n",
       "      <td></td>\n",
       "      <td></td>\n",
       "    </tr>\n",
       "    <tr>\n",
       "      <th>3</th>\n",
       "      <td>Ashes to Ashes, Oranges to Oranges</td>\n",
       "      <td>[https://images-na.ssl-images-amazon.com/image...</td>\n",
       "      <td>Flickerlamp Publishing</td>\n",
       "      <td>[Package Dimensions:\\n                    \\n8....</td>\n",
       "      <td>19,734,184inClothing,ShoesJewelry(</td>\n",
       "      <td>5 star</td>\n",
       "      <td>1940735033</td>\n",
       "      <td></td>\n",
       "      <td></td>\n",
       "      <td></td>\n",
       "      <td></td>\n",
       "      <td></td>\n",
       "      <td></td>\n",
       "      <td></td>\n",
       "      <td></td>\n",
       "    </tr>\n",
       "    <tr>\n",
       "      <th>4</th>\n",
       "      <td>Aether &amp; Empire #1 - 2016 First Printing Comic...</td>\n",
       "      <td>[https://images-na.ssl-images-amazon.com/image...</td>\n",
       "      <td></td>\n",
       "      <td>[Package Dimensions:\\n                    \\n10...</td>\n",
       "      <td>10,558,646inClothing,Shoesamp;Jewelry(</td>\n",
       "      <td>5 star</td>\n",
       "      <td>1940967805</td>\n",
       "      <td></td>\n",
       "      <td>$4.50</td>\n",
       "      <td></td>\n",
       "      <td></td>\n",
       "      <td></td>\n",
       "      <td></td>\n",
       "      <td></td>\n",
       "      <td></td>\n",
       "    </tr>\n",
       "  </tbody>\n",
       "</table>\n",
       "</div>"
      ],
      "text/plain": [
       "                                               title  \\\n",
       "0  Slime Time Fall Fest [With CDROM and Collector...   \n",
       "1  XCC Qi promise new spider snake preparing men'...   \n",
       "2                 Magical Things I Really Do Do Too!   \n",
       "3                 Ashes to Ashes, Oranges to Oranges   \n",
       "4  Aether & Empire #1 - 2016 First Printing Comic...   \n",
       "\n",
       "                                               image                   brand  \\\n",
       "0  [https://images-na.ssl-images-amazon.com/image...   Group Publishing (CO)   \n",
       "1  [https://images-na.ssl-images-amazon.com/image...                           \n",
       "2  [https://images-na.ssl-images-amazon.com/image...       Christopher Manos   \n",
       "3  [https://images-na.ssl-images-amazon.com/image...  Flickerlamp Publishing   \n",
       "4  [https://images-na.ssl-images-amazon.com/image...                           \n",
       "\n",
       "                                             feature  \\\n",
       "0  [Product Dimensions:\\n                    \\n8....   \n",
       "1                                                      \n",
       "2  [Package Dimensions:\\n                    \\n8....   \n",
       "3  [Package Dimensions:\\n                    \\n8....   \n",
       "4  [Package Dimensions:\\n                    \\n10...   \n",
       "\n",
       "                                     rank         date        asin  \\\n",
       "0  13,052,976inClothing,Shoesamp;Jewelry(  8.70 inches  0764443682   \n",
       "1  11,654,581inClothing,Shoesamp;Jewelry(       5 star  1291691480   \n",
       "2      19,308,073inClothing,ShoesJewelry(       5 star  1940280001   \n",
       "3      19,734,184inClothing,ShoesJewelry(       5 star  1940735033   \n",
       "4  10,558,646inClothing,Shoesamp;Jewelry(       5 star  1940967805   \n",
       "\n",
       "                                         description  price also_view  \\\n",
       "0                                                                       \n",
       "1                                                                       \n",
       "2  [For the professional or amateur magician.  Ro...                    \n",
       "3                                                                       \n",
       "4                                                     $4.50             \n",
       "\n",
       "  also_buy fit details similar_item tech1  \n",
       "0                                          \n",
       "1                                          \n",
       "2                                          \n",
       "3                                          \n",
       "4                                          "
      ]
     },
     "execution_count": 70,
     "metadata": {},
     "output_type": "execute_result"
    }
   ],
   "source": [
    "product_df.head()"
   ]
  },
  {
   "cell_type": "code",
   "execution_count": 72,
   "metadata": {},
   "outputs": [
    {
     "data": {
      "text/plain": [
       "(186207, 15)"
      ]
     },
     "execution_count": 72,
     "metadata": {},
     "output_type": "execute_result"
    }
   ],
   "source": [
    "product_df.shape"
   ]
  },
  {
   "cell_type": "markdown",
   "metadata": {},
   "source": [
    "## Initial EDA and Cleaning"
   ]
  },
  {
   "cell_type": "code",
   "execution_count": 30,
   "metadata": {},
   "outputs": [
    {
     "name": "stdout",
     "output_type": "stream",
     "text": [
      "<class 'pandas.core.frame.DataFrame'>\n",
      "RangeIndex: 883636 entries, 0 to 883635\n",
      "Data columns (total 12 columns):\n",
      " #   Column          Non-Null Count   Dtype  \n",
      "---  ------          --------------   -----  \n",
      " 0   overall         883636 non-null  float64\n",
      " 1   verified        883636 non-null  bool   \n",
      " 2   reviewTime      883636 non-null  object \n",
      " 3   reviewerID      883636 non-null  object \n",
      " 4   asin            883636 non-null  object \n",
      " 5   reviewerName    883544 non-null  object \n",
      " 6   reviewText      882403 non-null  object \n",
      " 7   summary         883103 non-null  object \n",
      " 8   unixReviewTime  883636 non-null  int64  \n",
      " 9   vote            79900 non-null   object \n",
      " 10  style           304569 non-null  object \n",
      " 11  image           28807 non-null   object \n",
      "dtypes: bool(1), float64(1), int64(1), object(9)\n",
      "memory usage: 75.0+ MB\n"
     ]
    }
   ],
   "source": [
    "#Initial data checks \n",
    "df.info()"
   ]
  },
  {
   "cell_type": "code",
   "execution_count": 31,
   "metadata": {},
   "outputs": [
    {
     "data": {
      "text/html": [
       "<div>\n",
       "<style scoped>\n",
       "    .dataframe tbody tr th:only-of-type {\n",
       "        vertical-align: middle;\n",
       "    }\n",
       "\n",
       "    .dataframe tbody tr th {\n",
       "        vertical-align: top;\n",
       "    }\n",
       "\n",
       "    .dataframe thead th {\n",
       "        text-align: right;\n",
       "    }\n",
       "</style>\n",
       "<table border=\"1\" class=\"dataframe\">\n",
       "  <thead>\n",
       "    <tr style=\"text-align: right;\">\n",
       "      <th></th>\n",
       "      <th>overall</th>\n",
       "      <th>unixReviewTime</th>\n",
       "    </tr>\n",
       "  </thead>\n",
       "  <tbody>\n",
       "    <tr>\n",
       "      <th>count</th>\n",
       "      <td>883636.00000</td>\n",
       "      <td>8.836360e+05</td>\n",
       "    </tr>\n",
       "    <tr>\n",
       "      <th>mean</th>\n",
       "      <td>3.90694</td>\n",
       "      <td>1.456751e+09</td>\n",
       "    </tr>\n",
       "    <tr>\n",
       "      <th>std</th>\n",
       "      <td>1.41828</td>\n",
       "      <td>4.430691e+07</td>\n",
       "    </tr>\n",
       "    <tr>\n",
       "      <th>min</th>\n",
       "      <td>1.00000</td>\n",
       "      <td>1.036973e+09</td>\n",
       "    </tr>\n",
       "    <tr>\n",
       "      <th>25%</th>\n",
       "      <td>3.00000</td>\n",
       "      <td>1.434240e+09</td>\n",
       "    </tr>\n",
       "    <tr>\n",
       "      <th>50%</th>\n",
       "      <td>5.00000</td>\n",
       "      <td>1.462234e+09</td>\n",
       "    </tr>\n",
       "    <tr>\n",
       "      <th>75%</th>\n",
       "      <td>5.00000</td>\n",
       "      <td>1.484266e+09</td>\n",
       "    </tr>\n",
       "    <tr>\n",
       "      <th>max</th>\n",
       "      <td>5.00000</td>\n",
       "      <td>1.538352e+09</td>\n",
       "    </tr>\n",
       "  </tbody>\n",
       "</table>\n",
       "</div>"
      ],
      "text/plain": [
       "            overall  unixReviewTime\n",
       "count  883636.00000    8.836360e+05\n",
       "mean        3.90694    1.456751e+09\n",
       "std         1.41828    4.430691e+07\n",
       "min         1.00000    1.036973e+09\n",
       "25%         3.00000    1.434240e+09\n",
       "50%         5.00000    1.462234e+09\n",
       "75%         5.00000    1.484266e+09\n",
       "max         5.00000    1.538352e+09"
      ]
     },
     "execution_count": 31,
     "metadata": {},
     "output_type": "execute_result"
    }
   ],
   "source": [
    "#Initial data checks \n",
    "df.describe()"
   ]
  },
  {
   "cell_type": "code",
   "execution_count": 32,
   "metadata": {},
   "outputs": [
    {
     "data": {
      "text/plain": [
       "<matplotlib.axes._subplots.AxesSubplot at 0x11d1838d0>"
      ]
     },
     "execution_count": 32,
     "metadata": {},
     "output_type": "execute_result"
    },
    {
     "data": {
      "image/png": "[encoded data removed]",
      "text/plain": [
       "<Figure size 1728x720 with 3 Axes>"
      ]
     },
     "metadata": {
      "needs_background": "light"
     },
     "output_type": "display_data"
    }
   ],
   "source": [
    "#plot nulls quickly \n",
    "msno.bar(df) "
   ]
  },
  {
   "cell_type": "markdown",
   "metadata": {},
   "source": [
    "**Oberservation:** There appears to be missing data in the `reviewerName` column, since this seems to be a duplicate of the `reveiwerID` column I'll drop it.  "
   ]
  },
  {
   "cell_type": "markdown",
   "metadata": {},
   "source": [
    "### Initial EDA"
   ]
  },
  {
   "cell_type": "code",
   "execution_count": 24,
   "metadata": {},
   "outputs": [
    {
     "data": {
      "text/plain": [
       "A3G5KDMFNRUXHB    40\n",
       "A3JBQHQZEZPQK4    36\n",
       "A1RRX286ZRI830    32\n",
       "A2PBHVTPTIIGKR    31\n",
       "A2GP4EJIAA2OE0    29\n",
       "                  ..\n",
       "A6AB92M4M7C7F      1\n",
       "A8MXVBVF59WS6      1\n",
       "A3OK3WS1JFRZN9     1\n",
       "A2ZFLGDFM90TH      1\n",
       "A3RZMA7SYOSNHH     1\n",
       "Name: reviewerID, Length: 749233, dtype: int64"
      ]
     },
     "execution_count": 24,
     "metadata": {},
     "output_type": "execute_result"
    }
   ],
   "source": [
    "df['reviewerID'].value_counts()"
   ]
  },
  {
   "cell_type": "code",
   "execution_count": 35,
   "metadata": {},
   "outputs": [
    {
     "data": {
      "image/png": "[encoded data removed]",
      "text/plain": [
       "<Figure size 576x576 with 1 Axes>"
      ]
     },
     "metadata": {
      "needs_background": "light"
     },
     "output_type": "display_data"
    }
   ],
   "source": [
    "plt.figure(figsize = (8, 8))\n",
    "plt.title(\"Top Reviewers by ID\")\n",
    "plt.xlabel('Reviewer ID')\n",
    "plt.xticks(rotation= 90)\n",
    "plt.ylabel('Frequency')\n",
    "df['reviewerID'].value_counts()[:30].plot(kind = 'bar');"
   ]
  },
  {
   "cell_type": "code",
   "execution_count": 76,
   "metadata": {},
   "outputs": [
    {
     "data": {
      "text/plain": [
       "B000V0IBDM    4384\n",
       "B000KPIHQ4    4375\n",
       "B00I0VHS10    3889\n",
       "B00RLSCLJM    3638\n",
       "B000PHANNM    2572\n",
       "B000YFSR5G    2538\n",
       "B00201ER88    2206\n",
       "B00GXE331K    2027\n",
       "B000P0X15G    1928\n",
       "B00XT15P8E    1855\n",
       "B0017U1KBK    1828\n",
       "B005N7YWX6    1688\n",
       "B004HX6P1E    1680\n",
       "B000YFSR4W    1650\n",
       "B009RUKQ2G    1592\n",
       "B000JOOR7O    1588\n",
       "B00ZW3SCF0    1541\n",
       "B000GHRZN2    1418\n",
       "B000GHMRLW    1418\n",
       "B00XTM0ZPG    1408\n",
       "Name: asin, dtype: int64"
      ]
     },
     "execution_count": 76,
     "metadata": {},
     "output_type": "execute_result"
    }
   ],
   "source": [
    "df['asin'].value_counts()[:20]"
   ]
  },
  {
   "cell_type": "code",
   "execution_count": 74,
   "metadata": {},
   "outputs": [
    {
     "data": {
      "text/html": [
       "<div>\n",
       "<style scoped>\n",
       "    .dataframe tbody tr th:only-of-type {\n",
       "        vertical-align: middle;\n",
       "    }\n",
       "\n",
       "    .dataframe tbody tr th {\n",
       "        vertical-align: top;\n",
       "    }\n",
       "\n",
       "    .dataframe thead th {\n",
       "        text-align: right;\n",
       "    }\n",
       "</style>\n",
       "<table border=\"1\" class=\"dataframe\">\n",
       "  <thead>\n",
       "    <tr style=\"text-align: right;\">\n",
       "      <th></th>\n",
       "      <th>title</th>\n",
       "      <th>image</th>\n",
       "      <th>brand</th>\n",
       "      <th>feature</th>\n",
       "      <th>rank</th>\n",
       "      <th>date</th>\n",
       "      <th>asin</th>\n",
       "      <th>description</th>\n",
       "      <th>price</th>\n",
       "      <th>also_view</th>\n",
       "      <th>also_buy</th>\n",
       "      <th>fit</th>\n",
       "      <th>details</th>\n",
       "      <th>similar_item</th>\n",
       "      <th>tech1</th>\n",
       "    </tr>\n",
       "  </thead>\n",
       "  <tbody>\n",
       "    <tr>\n",
       "      <th>3315</th>\n",
       "      <td>i play. Girls' Baby Brim Sun Protection Hat, A...</td>\n",
       "      <td>[https://images-na.ssl-images-amazon.com/image...</td>\n",
       "      <td>i play.</td>\n",
       "      <td>[Shipping Information:\\n                    \\n...</td>\n",
       "      <td></td>\n",
       "      <td>5 star5 star (0%)</td>\n",
       "      <td>B000P0X15G</td>\n",
       "      <td></td>\n",
       "      <td>$7.99 - $18.38</td>\n",
       "      <td></td>\n",
       "      <td></td>\n",
       "      <td>class=\"a-normal a-align-center a-spacing-smal...</td>\n",
       "      <td></td>\n",
       "      <td></td>\n",
       "      <td></td>\n",
       "    </tr>\n",
       "  </tbody>\n",
       "</table>\n",
       "</div>"
      ],
      "text/plain": [
       "                                                  title  \\\n",
       "3315  i play. Girls' Baby Brim Sun Protection Hat, A...   \n",
       "\n",
       "                                                  image    brand  \\\n",
       "3315  [https://images-na.ssl-images-amazon.com/image...  i play.   \n",
       "\n",
       "                                                feature rank  \\\n",
       "3315  [Shipping Information:\\n                    \\n...        \n",
       "\n",
       "                   date        asin description           price also_view  \\\n",
       "3315  5 star5 star (0%)  B000P0X15G              $7.99 - $18.38             \n",
       "\n",
       "     also_buy                                                fit details  \\\n",
       "3315            class=\"a-normal a-align-center a-spacing-smal...           \n",
       "\n",
       "     similar_item tech1  \n",
       "3315                     "
      ]
     },
     "execution_count": 74,
     "metadata": {},
     "output_type": "execute_result"
    }
   ],
   "source": [
    "what_is_its = (product_df['asin'] == 'B000P0X15G')\n",
    "product_df[what_is_its]"
   ]
  },
  {
   "cell_type": "markdown",
   "metadata": {},
   "source": [
    "Using the `asin` through the Product DataFrame, these are the 20 items with the most reviews. \n",
    "\n",
    "|`asin` |Number of Reviews| Product Name |\n",
    "|---|---|---|\n",
    "|B000V0IBDM| 4383 |Powerstep Pinnacle Orthotic Shoe Insoles|\n",
    "|B000KPIHQ4|4375 |Powerstep Pinnacle Orthotic Shoe Insoles |\n",
    "|B00I0VHS10|3889|90 Degree By Reflex Power Flex Yoga Capri | \n",
    "|B00RLSCLJM|3638|MJ Metals Jewelry 2mm to 10mm White Tungsten Carbide Mirror Polished Classic Wedding Ring | \n",
    "|B000PHANNM|2572 |i play. Baby Boys Flap Sun Protection Hat|\n",
    "|B000YFSR5G|2538 |Hanes Mens EcoSmart Fleece Sweatpant|\n",
    "|B00201ER88|2206|i play. by green sprouts Baby & Toddler Brim Sun Protection Hat |\n",
    "|B00GXE331K|2027|Best RFID Blocking Card Holder Case for Men|\n",
    "|B000P0X15G|1928|i play. Girls' Baby Brim Sun Protection Hat|\n",
    "|B00XT15P8E|1855|Marino Avenue Men’s Genuine Leather Ratchet Dress Belt|\n",
    "|B0017U1KBK|1828|Totes Kids Bubble Umbrella|\n",
    "|B005N7YWX6|1688|Ingrid & Isabel Women's Maternity Everyday Bellaband|\n",
    "|B004HX6P1E|1680|BodyJ4You 50PC Tongue Barbells Nipple Rings 14G Mix Acrylic Ball Steel Flexible Piercing Jewelry|\n",
    "|B000YFSR4W|1650|Hanes Mens EcoSmart Fleece Sweatpant|\n",
    "|B009RUKQ2G|1592|Scarleton Large Satchel H106801 - Black|\n",
    "|B000JOOR7O|1588|Vans Adult Classic Slip-On, (Checkerboard)|\n",
    "|B00ZW3SCF0|1541|Womens Crop Top Midi Skirt Outfit Two Piece Bodycon Bandage Dress|\n",
    "|B000GHRZN2|1418|Carhartt Men's Loose Fit Five Pocket Canvas Carpenter Jean|\n",
    "|B000GHMRLW|1418|Carhartt Men's Loose Fit Five Pocket CanvasCarpenter Jean|\n",
    "|B00XTM0ZPG|1408|WearMe Pro - Classic Half Frame Polarized Sunglasses|"
   ]
  },
  {
   "cell_type": "markdown",
   "metadata": {},
   "source": [
    "From examining the most frequently occuring `asin` we can see there is both Men's, Women's and Children's clothing products listed under the umbrella of Amazon Fashion. The dataset also includes items that are a little more broad, including shoe insoles, accessories, etc. "
   ]
  },
  {
   "cell_type": "code",
   "execution_count": 35,
   "metadata": {},
   "outputs": [
    {
     "data": {
      "image/png": "[encoded data removed]",
      "text/plain": [
       "<Figure size 576x576 with 1 Axes>"
      ]
     },
     "metadata": {
      "needs_background": "light"
     },
     "output_type": "display_data"
    }
   ],
   "source": [
    "plt.figure(figsize = (8, 8))\n",
    "plt.title(\"Top Items purchased\")\n",
    "plt.xlabel('Asin')\n",
    "plt.xticks(rotation= 90)\n",
    "plt.ylabel('Frequency')\n",
    "data['asin'].value_counts()[:30].plot(kind = 'bar');"
   ]
  },
  {
   "cell_type": "code",
   "execution_count": 29,
   "metadata": {},
   "outputs": [
    {
     "data": {
      "text/plain": [
       "5.0    163240\n",
       "4.0     58357\n",
       "3.0     30425\n",
       "2.0     15463\n",
       "1.0     11192\n",
       "Name: overall, dtype: int64"
      ]
     },
     "execution_count": 29,
     "metadata": {},
     "output_type": "execute_result"
    }
   ],
   "source": [
    "data['overall'].value_counts()"
   ]
  },
  {
   "cell_type": "code",
   "execution_count": 7,
   "metadata": {},
   "outputs": [
    {
     "data": {
      "text/plain": [
       "<matplotlib.axes._subplots.AxesSubplot at 0x11c06a910>"
      ]
     },
     "execution_count": 7,
     "metadata": {},
     "output_type": "execute_result"
    },
    {
     "data": {
      "image/png": "[encoded data removed]",
      "text/plain": [
       "<Figure size 432x288 with 1 Axes>"
      ]
     },
     "metadata": {
      "needs_background": "light"
     },
     "output_type": "display_data"
    }
   ],
   "source": [
    "data['overall'].value_counts().plot(kind = 'bar')"
   ]
  },
  {
   "cell_type": "code",
   "execution_count": 30,
   "metadata": {},
   "outputs": [
    {
     "data": {
      "text/plain": [
       "[0, 0]        191656\n",
       "[1, 1]         29726\n",
       "[0, 1]          9721\n",
       "[2, 2]          9026\n",
       "[1, 2]          6516\n",
       "               ...  \n",
       "[134, 135]         1\n",
       "[74, 78]           1\n",
       "[131, 135]         1\n",
       "[154, 154]         1\n",
       "[123, 127]         1\n",
       "Name: helpful, Length: 974, dtype: int64"
      ]
     },
     "execution_count": 30,
     "metadata": {},
     "output_type": "execute_result"
    }
   ],
   "source": [
    "data['helpful'].value_counts()"
   ]
  },
  {
   "cell_type": "code",
   "execution_count": 9,
   "metadata": {},
   "outputs": [
    {
     "data": {
      "image/png": "[encoded data removed]",
      "text/plain": [
       "<Figure size 576x576 with 1 Axes>"
      ]
     },
     "metadata": {
      "needs_background": "light"
     },
     "output_type": "display_data"
    }
   ],
   "source": [
    "plt.figure(figsize = (8, 8))\n",
    "plt.title(\"Top Items purchased\")\n",
    "plt.xlabel('Asin')\n",
    "plt.xticks(rotation= 90)\n",
    "plt.ylabel('Frequency')\n",
    "data['helpful'].value_counts()[:5].plot(kind = 'bar');"
   ]
  },
  {
   "cell_type": "code",
   "execution_count": 6,
   "metadata": {},
   "outputs": [
    {
     "data": {
      "text/plain": [
       "25120     01 1, 2008\n",
       "41100     01 1, 2008\n",
       "30182     01 1, 2008\n",
       "29521     01 1, 2009\n",
       "57050     01 1, 2010\n",
       "             ...    \n",
       "243368    12 9, 2013\n",
       "222514    12 9, 2013\n",
       "59073     12 9, 2013\n",
       "274362    12 9, 2013\n",
       "180302    12 9, 2013\n",
       "Name: reviewTime, Length: 278677, dtype: object"
      ]
     },
     "execution_count": 6,
     "metadata": {},
     "output_type": "execute_result"
    }
   ],
   "source": [
    "data['reviewTime'].sort_values()"
   ]
  },
  {
   "cell_type": "code",
   "execution_count": 32,
   "metadata": {},
   "outputs": [
    {
     "data": {
      "text/plain": [
       "12 26, 2013    918\n",
       "12 31, 2013    827\n",
       "01 8, 2014     803\n",
       "01 2, 2014     796\n",
       "01 9, 2014     796\n",
       "              ... \n",
       "06 17, 2008      1\n",
       "03 5, 2007       1\n",
       "06 14, 2006      1\n",
       "08 11, 2008      1\n",
       "08 2, 2007       1\n",
       "Name: reviewTime, Length: 2691, dtype: int64"
      ]
     },
     "execution_count": 32,
     "metadata": {},
     "output_type": "execute_result"
    }
   ],
   "source": [
    "data['reviewTime'].value_counts()"
   ]
  },
  {
   "cell_type": "markdown",
   "metadata": {},
   "source": [
    "**Oberservation:** Interestingly enough, most of the reviews in this dataset are left the day after Christmas 2013, followed then by New Years Eve of the same year. \n",
    "\n",
    "We can also see that reviews from this dataset span the from Jan 1 , 2008 to December 9, 2013. "
   ]
  },
  {
   "cell_type": "markdown",
   "metadata": {},
   "source": [
    "## Data Processing "
   ]
  },
  {
   "cell_type": "markdown",
   "metadata": {},
   "source": [
    "From here let's move into processing the data for modeling. "
   ]
  },
  {
   "cell_type": "markdown",
   "metadata": {},
   "source": [
    "## Sources "
   ]
  },
  {
   "cell_type": "markdown",
   "metadata": {},
   "source": [
    "Justifying recommendations using distantly-labeled reviews and fined-grained aspects\n",
    "Jianmo Ni, Jiacheng Li, Julian McAuley\n",
    "Empirical Methods in Natural Language Processing (EMNLP), 2019\n",
    "\n",
    "https://colab.research.google.com/drive/1Zv6MARGQcrBbLHyjPVVMZVnRWsRnVMpV#scrollTo=LgWrDtZ94w89\n",
    "\n",
    "https://stylecaster.com/amazon-fashion-the-drop-by-you-february-2020/ Bella Gerard \n",
    "\n",
    "https://www.latimes.com/entertainment-arts/business/story/2020-02-22/amazon-making-the-cut-reality-tv-heidi-klum-prime\n",
    "Wendy Lee, Feb 22 2020"
   ]
  },
  {
   "cell_type": "code",
   "execution_count": null,
   "metadata": {},
   "outputs": [],
   "source": []
  }
 ],
 "metadata": {
  "kernelspec": {
   "display_name": "Python [conda env:dsi] *",
   "language": "python",
   "name": "conda-env-dsi-py"
  },
  "language_info": {
   "codemirror_mode": {
    "name": "ipython",
    "version": 3
   },
   "file_extension": ".py",
   "mimetype": "text/x-python",
   "name": "python",
   "nbconvert_exporter": "python",
   "pygments_lexer": "ipython3",
   "version": "3.7.6"
  }
 },
 "nbformat": 4,
 "nbformat_minor": 2
}
